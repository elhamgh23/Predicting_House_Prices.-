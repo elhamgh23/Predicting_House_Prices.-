{
 "cells": [
  {
   "cell_type": "code",
   "execution_count": 5,
   "metadata": {},
   "outputs": [],
   "source": [
    "import pickle\n",
    "import numpy as np"
   ]
  },
  {
   "cell_type": "code",
   "execution_count": 6,
   "metadata": {},
   "outputs": [],
   "source": [
    "# openning pickled data file\n",
    "LoadedTheModel=pickle.load(open(\"XGBoost\",'rb'))  "
   ]
  },
  {
   "cell_type": "code",
   "execution_count": 7,
   "metadata": {},
   "outputs": [],
   "source": [
    "def input_data(*arg):\n",
    "    X=np.array(arg)\n",
    "    predict=LoadedTheModel.predict(X)\n",
    "    print('The predicted price for this house is:',format(predict[0], ','),'$')"
   ]
  },
  {
   "cell_type": "code",
   "execution_count": 8,
   "metadata": {},
   "outputs": [],
   "source": [
    "def user():\n",
    "    print (\"'House Prices Prediction'\")\n",
    "    bedrooms=int(input(\"1- How many bedrooms are in the house: \"))\n",
    "    sqft_living=int(input(\"2- What is the size of the living area in square feet: \")) \n",
    "    sqft_basement=int(input(\"3- What is the size of the basement in the house?: \")) \n",
    "    bathrooms=float(input(\"4- How many bathrooms are in the house: \")) \n",
    "    view=int(input(\"5- What is the view rank, from (0-4): \")) \n",
    "    Grade=int(input(\"6- What is the Grade rank from (1-13): \"))\n",
    "    longitude=int(input(\"7- What is the longitude: \")) \n",
    "    latitude=int(input(\"8- What is the latitude:\"))\n",
    "    List= [bedrooms,sqft_living,sqft_basement,bathrooms,view,Grade,longitude,latitude]\n",
    "    input_data(List)\n",
    "    "
   ]
  },
  {
   "cell_type": "code",
   "execution_count": 9,
   "metadata": {},
   "outputs": [
    {
     "name": "stdout",
     "output_type": "stream",
     "text": [
      "'House Prices Prediction'\n",
      "The predicted price for this house is: 1,579,972.625 $\n"
     ]
    }
   ],
   "source": [
    "user() "
   ]
  },
  {
   "cell_type": "code",
   "execution_count": null,
   "metadata": {},
   "outputs": [],
   "source": []
  }
 ],
 "metadata": {
  "kernelspec": {
   "display_name": "Python 3",
   "language": "python",
   "name": "python3"
  },
  "language_info": {
   "codemirror_mode": {
    "name": "ipython",
    "version": 3
   },
   "file_extension": ".py",
   "mimetype": "text/x-python",
   "name": "python",
   "nbconvert_exporter": "python",
   "pygments_lexer": "ipython3",
   "version": "3.11.1"
  },
  "orig_nbformat": 4
 },
 "nbformat": 4,
 "nbformat_minor": 2
}
